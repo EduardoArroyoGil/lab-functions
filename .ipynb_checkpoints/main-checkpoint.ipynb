{
 "cells": [
  {
   "cell_type": "markdown",
   "metadata": {},
   "source": [
    "# Functions"
   ]
  },
  {
   "cell_type": "markdown",
   "metadata": {},
   "source": [
    "On this lab we will put to practice some of the concepts we have learned on this past few days.\n",
    "\n",
    "`NOTE: On this lab you should try to write all the functions yourself using only the most basic of python syntax and without functions such as len, count, sum, max, min, in, etc. Give it a try. 🧑🏻‍💻👩🏻‍💻`\n",
    "\n",
    "The cell after each exercise contains a few tests to check if your function works as expected."
   ]
  },
  {
   "cell_type": "code",
   "execution_count": 1,
   "metadata": {},
   "outputs": [],
   "source": [
    "from mod.testing import *\n",
    "import unittest"
   ]
  },
  {
   "cell_type": "markdown",
   "metadata": {},
   "source": [
    "## 1. Write a function that returns the greater of two numbers"
   ]
  },
  {
   "cell_type": "code",
   "execution_count": 2,
   "metadata": {},
   "outputs": [],
   "source": [
    "def greater(a,b):\n",
    "    if a > b:\n",
    "        num = a\n",
    "    else:\n",
    "        num = b\n",
    "    \n",
    "    return num"
   ]
  },
  {
   "cell_type": "code",
   "execution_count": 3,
   "metadata": {},
   "outputs": [
    {
     "name": "stderr",
     "output_type": "stream",
     "text": [
      "....................................................................................................\n",
      "----------------------------------------------------------------------\n",
      "Ran 100 tests in 0.085s\n",
      "\n",
      "OK\n"
     ]
    }
   ],
   "source": [
    "# This will test your function \n",
    "test_greater(greater)"
   ]
  },
  {
   "cell_type": "markdown",
   "metadata": {},
   "source": [
    "## 2. Now write a function that returns the largest element on a list"
   ]
  },
  {
   "cell_type": "code",
   "execution_count": 4,
   "metadata": {},
   "outputs": [],
   "source": [
    "def greatest(arr):\n",
    "    num = arr[-1]\n",
    "    for i in arr:\n",
    "        if i > num:\n",
    "            num = i\n",
    "    \n",
    "    return num\n",
    "    "
   ]
  },
  {
   "cell_type": "code",
   "execution_count": 5,
   "metadata": {},
   "outputs": [
    {
     "name": "stderr",
     "output_type": "stream",
     "text": [
      "....................................................................................................\n",
      "----------------------------------------------------------------------\n",
      "Ran 100 tests in 0.061s\n",
      "\n",
      "OK\n"
     ]
    }
   ],
   "source": [
    "# This will test your function \n",
    "test_greatest(greatest)"
   ]
  },
  {
   "cell_type": "markdown",
   "metadata": {},
   "source": [
    "## 3. Write a function that sums all the elements on a list"
   ]
  },
  {
   "cell_type": "code",
   "execution_count": 6,
   "metadata": {},
   "outputs": [],
   "source": [
    "def sum_all(arr):\n",
    "    num = 0\n",
    "    for i in arr:\n",
    "        num += i\n",
    "    \n",
    "    return num"
   ]
  },
  {
   "cell_type": "code",
   "execution_count": 7,
   "metadata": {},
   "outputs": [
    {
     "name": "stderr",
     "output_type": "stream",
     "text": [
      "....................................................................................................\n",
      "----------------------------------------------------------------------\n",
      "Ran 100 tests in 0.066s\n",
      "\n",
      "OK\n"
     ]
    }
   ],
   "source": [
    "# This will test your function \n",
    "test_sum(sum_all)"
   ]
  },
  {
   "cell_type": "markdown",
   "metadata": {},
   "source": [
    "## 4. Write another function that multiplies all the elements on a list"
   ]
  },
  {
   "cell_type": "code",
   "execution_count": 8,
   "metadata": {},
   "outputs": [],
   "source": [
    "def mult_all(arr):\n",
    "    num = 1\n",
    "    for i in arr:\n",
    "        num *= i\n",
    "    \n",
    "    return num"
   ]
  },
  {
   "cell_type": "code",
   "execution_count": 9,
   "metadata": {},
   "outputs": [
    {
     "name": "stderr",
     "output_type": "stream",
     "text": [
      "....................................................................................................\n",
      "----------------------------------------------------------------------\n",
      "Ran 100 tests in 0.070s\n",
      "\n",
      "OK\n"
     ]
    }
   ],
   "source": [
    "# This will test your function \n",
    "test_mult(mult_all)"
   ]
  },
  {
   "cell_type": "markdown",
   "metadata": {},
   "source": [
    "## 5. Now combine those two ideas and write a function that receives a list and either \"+\" or \"*\" and outputs acordingly"
   ]
  },
  {
   "cell_type": "code",
   "execution_count": 10,
   "metadata": {},
   "outputs": [],
   "source": [
    "def oper_all(arr, oper):\n",
    "    \n",
    "    num = 0\n",
    "    \n",
    "    if oper == '+':\n",
    "        num = sum_all(arr)\n",
    "    elif oper == '*':\n",
    "        num = mult_all(arr)\n",
    "\n",
    "    return num"
   ]
  },
  {
   "cell_type": "code",
   "execution_count": 11,
   "metadata": {},
   "outputs": [
    {
     "name": "stderr",
     "output_type": "stream",
     "text": [
      "....................................................................................................\n",
      "----------------------------------------------------------------------\n",
      "Ran 100 tests in 0.179s\n",
      "\n",
      "OK\n"
     ]
    }
   ],
   "source": [
    "# This will test your function \n",
    "test_operations(oper_all)"
   ]
  },
  {
   "cell_type": "markdown",
   "metadata": {},
   "source": [
    "## 6. Write a function that returns the factorial of a number."
   ]
  },
  {
   "cell_type": "code",
   "execution_count": 12,
   "metadata": {},
   "outputs": [],
   "source": [
    "def factorial(n):\n",
    "    if n == 1:\n",
    "       return n\n",
    "    else:\n",
    "       return n*factorial(n-1)"
   ]
  },
  {
   "cell_type": "code",
   "execution_count": 13,
   "metadata": {},
   "outputs": [
    {
     "name": "stderr",
     "output_type": "stream",
     "text": [
      "....................................................................................................\n",
      "----------------------------------------------------------------------\n",
      "Ran 100 tests in 0.066s\n",
      "\n",
      "OK\n"
     ]
    }
   ],
   "source": [
    "# This will test your function \n",
    "test_factorial(factorial)"
   ]
  },
  {
   "cell_type": "markdown",
   "metadata": {},
   "source": [
    "## 7. Write a function that takes a list and returns a list of the unique values.\n",
    "\n",
    "`NOTE: You cannot use set. 🤔`"
   ]
  },
  {
   "cell_type": "code",
   "execution_count": 14,
   "metadata": {},
   "outputs": [],
   "source": [
    "def unique(arr):\n",
    "    i = 0\n",
    "    rslt = list()\n",
    "    for ele in arr:\n",
    "        if ele not in rslt:\n",
    "            rslt.insert(i,ele)\n",
    "            i += 1\n",
    "        else:\n",
    "            pass\n",
    "    return rslt"
   ]
  },
  {
   "cell_type": "code",
   "execution_count": 15,
   "metadata": {},
   "outputs": [
    {
     "name": "stderr",
     "output_type": "stream",
     "text": [
      "....................................................................................................\n",
      "----------------------------------------------------------------------\n",
      "Ran 100 tests in 0.137s\n",
      "\n",
      "OK\n"
     ]
    }
   ],
   "source": [
    "# This will test your function \n",
    "test_unique(unique)"
   ]
  },
  {
   "cell_type": "markdown",
   "metadata": {},
   "source": [
    "## 8. Write a function that returns the mode of a list, i.e.: the element that appears the most times.\n",
    "`NOTE: You should not use count... 🧐`"
   ]
  },
  {
   "cell_type": "code",
   "execution_count": 26,
   "metadata": {},
   "outputs": [],
   "source": [
    "def mode_counter(arr):\n",
    "    unique_list = unique(arr)\n",
    "    frequ_ele = list()\n",
    "    i = 0\n",
    "    \n",
    "    # genero una lista de 0 con la misma longitud que la lista de unicos\n",
    "    for ele_u in unique_list:\n",
    "        frequ_ele.insert(i,0)\n",
    "        i += 1\n",
    "    # reseteo la variable i    \n",
    "    i = 0  \n",
    "    \n",
    "    # recorro cada elemento de la lista de unicos y compruebo\n",
    "    # cuantas veces aparece en la lista inicial\n",
    "    for ele_u in unique_list:\n",
    "        for ele_arr in arr:\n",
    "            if ele_arr == ele_u:\n",
    "                frequ_ele[i] += 1\n",
    "        \n",
    "        i += 1\n",
    "     # calculo la maxima frecuencia\n",
    "    max_freq = greatest(frequ_ele)\n",
    "    \n",
    "    # calculo el elemento de maxima frecuencia\n",
    "    ele_max_freq = unique_list[frequ_ele.index(max_freq)]\n",
    "    \n",
    "    return ele_max_freq"
   ]
  },
  {
   "cell_type": "code",
   "execution_count": 27,
   "metadata": {},
   "outputs": [
    {
     "name": "stderr",
     "output_type": "stream",
     "text": [
      "....................................................................................................\n",
      "----------------------------------------------------------------------\n",
      "Ran 100 tests in 0.187s\n",
      "\n",
      "OK\n"
     ]
    }
   ],
   "source": [
    "# This will test your function \n",
    "test_mode(mode_counter)"
   ]
  },
  {
   "cell_type": "markdown",
   "metadata": {},
   "source": [
    "## 9. Write a function that calculates the standard deviation of a list.\n",
    "`NOTE: Do not use any libraries or already built functions. 😉`"
   ]
  },
  {
   "cell_type": "code",
   "execution_count": 35,
   "metadata": {},
   "outputs": [],
   "source": [
    "from statistics import stdev\n",
    "def st_dev(arr):\n",
    "    sum_ = 0\n",
    "    len_ = 0\n",
    "    #calculo la media\n",
    "    for ele in arr:\n",
    "        sum_ += ele\n",
    "        len_ += 1\n",
    "    \n",
    "    avg_ = sum_/len_\n",
    "    \n",
    "    i = 0\n",
    "    # resto la media a cada elemento del array\n",
    "    for ele in arr:\n",
    "        arr[i] = ele - avg_\n",
    "        i += 1\n",
    "        \n",
    "    # reseteo la variable\n",
    "    i = 0\n",
    "    \n",
    "    # hago el cuadrado a cada elemento de la lista\n",
    "    for ele in arr:\n",
    "        arr[i] **= 2\n",
    "        i += 1 \n",
    "        \n",
    "    sum_sq = 0\n",
    "    # hago el sumatorio de los cuadrados\n",
    "    for ele in arr:\n",
    "        sum_sq += ele\n",
    "    \n",
    "    # calculo la varianza\n",
    "    var_ = sum_sq/(len_-1)\n",
    "    \n",
    "    # calculo la desviacion estandar\n",
    "    stddev_ = var_**(1/2)\n",
    "    \n",
    "    return stddev_"
   ]
  },
  {
   "cell_type": "code",
   "execution_count": 36,
   "metadata": {},
   "outputs": [
    {
     "name": "stderr",
     "output_type": "stream",
     "text": [
      "....................................................................................................\n",
      "----------------------------------------------------------------------\n",
      "Ran 100 tests in 0.092s\n",
      "\n",
      "OK\n"
     ]
    }
   ],
   "source": [
    "# This will test your function \n",
    "test_stdev(st_dev)"
   ]
  },
  {
   "cell_type": "markdown",
   "metadata": {},
   "source": [
    "## 10. Write a function to check if a string is a pangram, i.e.: if it contains all the letters of the alphabet at least once. Mind that the strings may contain characters that are not letters."
   ]
  },
  {
   "cell_type": "code",
   "execution_count": 47,
   "metadata": {},
   "outputs": [],
   "source": [
    "def pangram(string):\n",
    "    import string as str_\n",
    "    alphabet = list(str_.ascii_lowercase)\n",
    "    lst_string = list(string.lower())\n",
    "    len_alphabet = 0\n",
    "    \n",
    "    for letter in alphabet:\n",
    "        len_alphabet += 1\n",
    "    \n",
    "    checker = 0\n",
    "    for letter in alphabet:\n",
    "        if letter in lst_string:\n",
    "            checker += 1\n",
    "    \n",
    "    if checker == len_alphabet:\n",
    "        return True\n",
    "    else:\n",
    "        return False\n",
    "            "
   ]
  },
  {
   "cell_type": "code",
   "execution_count": 50,
   "metadata": {},
   "outputs": [
    {
     "name": "stderr",
     "output_type": "stream",
     "text": [
      "..............................\n",
      "----------------------------------------------------------------------\n",
      "Ran 30 tests in 0.028s\n",
      "\n",
      "OK\n"
     ]
    }
   ],
   "source": [
    "# This will test your function \n",
    "test_pangram(pangram)"
   ]
  },
  {
   "cell_type": "markdown",
   "metadata": {},
   "source": [
    "## 11. Write a function that receives a string of comma separated words and returns a string of comma separated words sorted alphabetically.\n",
    "\n",
    "`NOTE: You may use sorted but not split and definitely no join! 🤪`"
   ]
  },
  {
   "cell_type": "code",
   "execution_count": 57,
   "metadata": {},
   "outputs": [],
   "source": [
    "def sort_alpha(string):\n",
    "    lst_pos_comma = list()\n",
    "    lst_string = list(string)\n",
    "    len_string = 0\n",
    "    num_commas = 0\n",
    "    lst_words = list()\n",
    "    \n",
    "    # calculo el numero de comas y la longitud de la string\n",
    "    for ele in lst_string:\n",
    "        len_string += 1\n",
    "        if ele == \",\":\n",
    "            num_commas += 1\n",
    "    #calculo la posicion de las comas en la string\n",
    "    w = 0\n",
    "    for i in range(0,len_string):\n",
    "        if lst_string[i] == \",\":\n",
    "            lst_pos_comma.insert(w,i)\n",
    "            w += 1\n",
    "            \n",
    "    # calculo la longitud de la lista de palabras\n",
    "    num_words = num_commas + 1\n",
    "    \n",
    "    # creo una lista con la longitud necesaria llena de vacios\n",
    "    for i in range(0,num_words):\n",
    "        lst_words.insert(i,\"\")\n",
    "    \n",
    "    word_aux = \"\"\n",
    "    \n",
    "    # creo una lista con las palabras\n",
    "    for i in range(0,num_words):\n",
    "        \n",
    "        # inicio de la palabra\n",
    "        if i == 0:\n",
    "            ini = 0\n",
    "        else:\n",
    "            ini = lst_pos_comma[i-1] + 1\n",
    "        # fin de la palabra\n",
    "        if i == num_words-1:\n",
    "            end = len_string \n",
    "        else:\n",
    "            end = lst_pos_comma[i]\n",
    "        # componiendo la palabra\n",
    "        for j in range(ini,end):\n",
    "            word_aux += lst_string[j]\n",
    "        # asignando la palabra en la posicion, por si acaso quito los espacios\n",
    "        lst_words[i] = word_aux.replace(\" \",\"\")\n",
    "        word_aux = \"\"\n",
    "    \n",
    "    # ordeno la lista\n",
    "    lst_words.sort()\n",
    "    \n",
    "    # genero una string ordenada\n",
    "    sort_string = \"\"\n",
    "    \n",
    "    for ele in lst_words:\n",
    "        sort_string += \",\" + ele\n",
    "    \n",
    "    sort_string = sort_string.lstrip(\",\")\n",
    "        \n",
    "    return sort_string"
   ]
  },
  {
   "cell_type": "code",
   "execution_count": 56,
   "metadata": {},
   "outputs": [
    {
     "name": "stderr",
     "output_type": "stream",
     "text": [
      "....................................................................................................\n",
      "----------------------------------------------------------------------\n",
      "Ran 100 tests in 0.200s\n",
      "\n",
      "OK\n"
     ]
    }
   ],
   "source": [
    "# This will test your function \n",
    "test_alpha(sort_alpha)"
   ]
  },
  {
   "cell_type": "markdown",
   "metadata": {},
   "source": [
    "## 12. Write a function to check if a given password is strong (at least 8 characters, at least one lower case, at least one upper case, at least one number and at least one special character). It should output True if strong and False if not.\n",
    "`Valid special characters: # @ ! $ % & ( ) ^ * [ ] { }`"
   ]
  },
  {
   "cell_type": "code",
   "execution_count": 68,
   "metadata": {},
   "outputs": [],
   "source": [
    "def check_pass(string):\n",
    "    import string as str_\n",
    "    \n",
    "    lst_string = list(string)\n",
    "    \n",
    "    cond1 = 0\n",
    "    cond2 = 0\n",
    "    cond3 = 0\n",
    "    cond4 = 0\n",
    "    cond5 = 0\n",
    "    \n",
    "    # condicion 1\n",
    "    len_string = 0\n",
    "    \n",
    "    for i in lst_string:\n",
    "        len_string += 1\n",
    "    \n",
    "    if len_string >= 8:\n",
    "        cond1 = 1\n",
    "    \n",
    "    # condicion 2\n",
    "    \n",
    "    for i in lst_string:\n",
    "        if i.islower():\n",
    "            cond2 =1\n",
    "    \n",
    "    # condicion 3\n",
    "    \n",
    "    for i in lst_string:\n",
    "        if i.isupper():\n",
    "            cond3 =1\n",
    "            \n",
    "    # condicion 4\n",
    "    \n",
    "    for i in lst_string:\n",
    "        if i.isnumeric():\n",
    "            cond4 =1\n",
    "    \n",
    "    # condicion 5\n",
    "    \n",
    "    special_characters = list(str_.punctuation)\n",
    "    \n",
    "    for i in lst_string:\n",
    "        if i in special_characters:\n",
    "            cond5 = 1\n",
    "    \n",
    "    if cond1 + cond2 + cond3 + cond4 + cond5 == 5:\n",
    "        return True\n",
    "    else:\n",
    "        return False"
   ]
  },
  {
   "cell_type": "code",
   "execution_count": 69,
   "metadata": {},
   "outputs": [
    {
     "name": "stderr",
     "output_type": "stream",
     "text": [
      "....................................................................................................\n",
      "----------------------------------------------------------------------\n",
      "Ran 100 tests in 0.142s\n",
      "\n",
      "OK\n"
     ]
    }
   ],
   "source": [
    "# This will test your function \n",
    "test_pass(check_pass)"
   ]
  }
 ],
 "metadata": {
  "kernelspec": {
   "display_name": "Python 3 (ipykernel)",
   "language": "python",
   "name": "python3"
  },
  "language_info": {
   "codemirror_mode": {
    "name": "ipython",
    "version": 3
   },
   "file_extension": ".py",
   "mimetype": "text/x-python",
   "name": "python",
   "nbconvert_exporter": "python",
   "pygments_lexer": "ipython3",
   "version": "3.9.7"
  }
 },
 "nbformat": 4,
 "nbformat_minor": 4
}
